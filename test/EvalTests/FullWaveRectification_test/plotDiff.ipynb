{
 "cells": [
  {
   "cell_type": "code",
   "execution_count": null,
   "metadata": {},
   "outputs": [],
   "source": [
    "import pandas as pd\n",
    "import matplotlib.pyplot as plot\n",
    "\n",
    "lt = pd.read_csv('LT.csvs/newlt.csv')\n",
    "e404 = pd.read_csv('out.csv')\n",
    "\n",
    "e404.columns = [lower(x) for x in e404.columns]\n",
    "lt.columns = [lower(x) for x in lt.columns]"
   ]
  }
 ],
 "metadata": {
  "language_info": {
   "codemirror_mode": {
    "name": "ipython",
    "version": 3
   },
   "file_extension": ".py",
   "mimetype": "text/x-python",
   "name": "python",
   "nbconvert_exporter": "python",
   "pygments_lexer": "ipython3",
   "version": 3
  },
  "orig_nbformat": 2
 },
 "nbformat": 4,
 "nbformat_minor": 2
}