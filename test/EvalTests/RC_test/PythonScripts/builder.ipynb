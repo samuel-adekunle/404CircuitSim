{
 "cells": [
  {
   "cell_type": "code",
   "execution_count": 1,
   "metadata": {},
   "outputs": [
    {
     "output_type": "error",
     "ename": "FileNotFoundError",
     "evalue": "[Errno 2] No such file or directory: '../RC_test/LT.csvs'",
     "traceback": [
      "\u001b[0;31m---------------------------------------------------------------------------\u001b[0m",
      "\u001b[0;31mFileNotFoundError\u001b[0m                         Traceback (most recent call last)",
      "\u001b[0;32m<ipython-input-1-86fb1575c965>\u001b[0m in \u001b[0;36m<module>\u001b[0;34m\u001b[0m\n\u001b[1;32m     48\u001b[0m \u001b[0mLTfol\u001b[0m \u001b[0;34m=\u001b[0m \u001b[0;34m\"../\"\u001b[0m\u001b[0;34m+\u001b[0m\u001b[0mfolder\u001b[0m\u001b[0;34m+\u001b[0m\u001b[0;34m\"/LT.csvs\"\u001b[0m\u001b[0;34m\u001b[0m\u001b[0;34m\u001b[0m\u001b[0m\n\u001b[1;32m     49\u001b[0m \u001b[0mfol404\u001b[0m \u001b[0;34m=\u001b[0m \u001b[0;34m\"../\"\u001b[0m \u001b[0;34m+\u001b[0m \u001b[0mfolder\u001b[0m\u001b[0;34m+\u001b[0m\u001b[0;34m\"/out.csvs\"\u001b[0m\u001b[0;34m\u001b[0m\u001b[0;34m\u001b[0m\u001b[0m\n\u001b[0;32m---> 50\u001b[0;31m \u001b[0mltFiles\u001b[0m\u001b[0;34m=\u001b[0m \u001b[0;34m[\u001b[0m\u001b[0mf\u001b[0m \u001b[0;32mfor\u001b[0m \u001b[0mf\u001b[0m \u001b[0;32min\u001b[0m \u001b[0mlistdir\u001b[0m\u001b[0;34m(\u001b[0m\u001b[0mLTfol\u001b[0m\u001b[0;34m)\u001b[0m \u001b[0;32mif\u001b[0m \u001b[0misfile\u001b[0m\u001b[0;34m(\u001b[0m\u001b[0mjoin\u001b[0m\u001b[0;34m(\u001b[0m\u001b[0mLTfol\u001b[0m\u001b[0;34m,\u001b[0m \u001b[0mf\u001b[0m\u001b[0;34m)\u001b[0m\u001b[0;34m)\u001b[0m\u001b[0;34m]\u001b[0m\u001b[0;34m\u001b[0m\u001b[0;34m\u001b[0m\u001b[0m\n\u001b[0m\u001b[1;32m     51\u001b[0m \u001b[0mspiceFiles\u001b[0m \u001b[0;34m=\u001b[0m \u001b[0;34m[\u001b[0m\u001b[0mf\u001b[0m \u001b[0;32mfor\u001b[0m \u001b[0mf\u001b[0m \u001b[0;32min\u001b[0m \u001b[0mlistdir\u001b[0m\u001b[0;34m(\u001b[0m\u001b[0mfol404\u001b[0m\u001b[0;34m)\u001b[0m \u001b[0;32mif\u001b[0m \u001b[0misfile\u001b[0m\u001b[0;34m(\u001b[0m\u001b[0mjoin\u001b[0m\u001b[0;34m(\u001b[0m\u001b[0mfol404\u001b[0m\u001b[0;34m,\u001b[0m \u001b[0mf\u001b[0m\u001b[0;34m)\u001b[0m\u001b[0;34m)\u001b[0m\u001b[0;34m]\u001b[0m\u001b[0;34m\u001b[0m\u001b[0;34m\u001b[0m\u001b[0m\n\u001b[1;32m     52\u001b[0m \u001b[0;34m\u001b[0m\u001b[0m\n",
      "\u001b[0;31mFileNotFoundError\u001b[0m: [Errno 2] No such file or directory: '../RC_test/LT.csvs'"
     ]
    }
   ],
   "source": [
    "import pandas as pd\n",
    "import matplotlib.pyplot as plot\n",
    "import re as re\n",
    "\n",
    "def compare(lt,out):\n",
    "\n",
    "    rVal = re.split(\"(?:[a-zA-Z]=)(\\d+)\", lt)\n",
    "    rVal = float(rVal[1])\n",
    "    a = pd.read_csv(lt)\n",
    "    print(out)\n",
    "    b = pd.read_csv(out)\n",
    "        \n",
    "    a.columns = a.columns.str.lower()\n",
    "    b.columns = b.columns.str.lower()\n",
    "    a.set_index('time')\n",
    "    b.set_index('time')\n",
    "    c = a.copy()\n",
    "    means = list()\n",
    "    means.append(rVal)\n",
    "    upTo = int((rVal*10e-6)/1e-5)\n",
    "    print(upTo)\n",
    "    a = a.iloc[:upTo]\n",
    "    b = b.iloc[:upTo]\n",
    "    header = list()\n",
    "    header.append(\"Resistor Value\")\n",
    "    for i in a.columns:\n",
    "        if i == \"time\" or i==\"Time\":\n",
    "            continue\n",
    "        else:\n",
    "            header.append(i)\n",
    "            c[i] = (abs(a[i]-b[i]))\n",
    "            means.append(abs(c[i].mean()))\n",
    "            if i == \"i(c1)\":\n",
    "                print(str(a[i]))\n",
    "                print(\"\")\n",
    "                print(str(b[i]))\n",
    "                print(\"\")\n",
    "                print(str(c[i]))\n",
    "\n",
    "    return (c,means,header)\n",
    "\n",
    "\n",
    "from os import listdir\n",
    "from os.path import isfile, join\n",
    "\n",
    "folder = \"RC_test\"\n",
    "\n",
    "LTfol = \"../LT.csvs\"\n",
    "fol404 = \"../out.csvs\"\n",
    "ltFiles= [f for f in listdir(LTfol) if isfile(join(LTfol, f))]\n",
    "spiceFiles = [f for f in listdir(fol404) if isfile(join(fol404, f))]\n",
    "\n",
    "ltFiles = [x for x in ltFiles if \"new\" in x]\n",
    "means = list()\n",
    "header = list()\n",
    "for ltFile in ltFiles:\n",
    "    file404 = ltFile.replace('new','')\n",
    "    resultTuple = compare(\"../RC_test/LT.csvs/\"+ltFile,\"../RC_test/out.csvs/\"+file404)\n",
    "    means.append(resultTuple[1])\n",
    "    a = resultTuple[0]\n",
    "    header = resultTuple[2]\n",
    "    b = a.plot(kind='scatter',marker='x',x='time',y='v(n001)',color='red')\n",
    "    b.grid(color='black', linestyle='-', linewidth=0.4)\n",
    "    b.set(xlabel=\"Time /s\", ylabel=\"Percentage Error in Voltage /%\",title=\"Pecentage Error of Voltage across resistor\\n vs Time /s \" + file404.replace(',.csv','')) \n",
    "    b.savefig(\"../graphs/PercentageErrorR=\"+file404.replace(',.csv',''), bbox_inches='tight')\n",
    "\n",
    "x = pd.DataFrame.from_records(means)\n",
    "x.columns = header\n",
    "x.set_index('Resistor Value')\n",
    "print(x)\n",
    "\n",
    "for i in x.columns[1:]:\n",
    "    b = x.plot(kind='scatter',marker='x',x='Resistor Value',y=i,color='red')\n",
    "    b.grid(color='black', linestyle='-', linewidth=0.4)\n",
    "    b.set(xlabel=\"Resistor Value /Ω\", ylabel=\"Mean Percentage Error in \" +i + \"/%\",title=\"Average Percentage Error in \" + i + \"/%\" + \"\\nIn first time constant for various resistor values /Ω\") \n",
    "    b.savefig(\"../graphs/MeanError\"+i, bbox_inches='tight')"
   ]
  },
  {
   "cell_type": "code",
   "execution_count": null,
   "metadata": {},
   "outputs": [],
   "source": []
  }
 ],
 "metadata": {
  "language_info": {
   "codemirror_mode": {
    "name": "ipython",
    "version": 3
   },
   "file_extension": ".py",
   "mimetype": "text/x-python",
   "name": "python",
   "nbconvert_exporter": "python",
   "pygments_lexer": "ipython3",
   "version": "3.8.2-final"
  },
  "orig_nbformat": 2,
  "kernelspec": {
   "name": "python38264bitfc22059568c646c6a1e5bc659c9d5e08",
   "display_name": "Python 3.8.2 64-bit"
  }
 },
 "nbformat": 4,
 "nbformat_minor": 2
}